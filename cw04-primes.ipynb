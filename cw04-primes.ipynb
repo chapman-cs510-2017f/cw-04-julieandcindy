{
 "cells": [
  {
   "cell_type": "code",
   "execution_count": 0,
   "metadata": {
    "collapsed": false
   },
   "outputs": [
   ],
   "source": [
    "import numpy as np    # Numeric python\n",
    "import sympy as sp    # Symbolic python\n",
    "import pandas as pd   # Data processing python\n",
    "import primes"
   ]
  },
  {
   "cell_type": "markdown",
   "metadata": {
    "collapsed": false
   },
   "source": [
    "# The Sieve of Eratosthenes"
   ]
  },
  {
   "cell_type": "markdown",
   "metadata": {
    "collapsed": false
   },
   "source": [
    "The goal of this algorithm is to find all prime numbers up to a number n. This algorithm works by starting at the number 2 and removing all multiple of 2 from 2 to n. Then we remove all multiples of 3, and then 4, and so on up to n. At the end of the program, we are left with all the prime numbers less than n."
   ]
  },
  {
   "cell_type": "markdown",
   "metadata": {
    "collapsed": false
   },
   "source": [
    "For our program, we decided to use a list to store all our prime numbers."
   ]
  },
  {
   "cell_type": "code",
   "execution_count": 0,
   "metadata": {
    "collapsed": false
   },
   "outputs": [
   ],
   "source": [
    "primes = []"
   ]
  },
  {
   "cell_type": "markdown",
   "metadata": {
    "collapsed": false
   },
   "source": [
    "We thought that a list would be the best way to store this information because lists are mutable. This way, we can start with a list of numbers 2 to n and remove any numbers that are not prime."
   ]
  },
  {
   "cell_type": "markdown",
   "metadata": {
    "collapsed": false
   },
   "source": [
    "Our program works by first checking if the number n is positive. If it is not positive, a message is printed saying \"Please enter a positive number.\" If n is positive, the while loops execute. The first while loop works executes based on the accumulator count. This adds each number 2 through n to our list primes. The second while loop executes by checking if a variable p is less than or equal to n. While this is true, the for loop executes. The for loop works in the following way. The i * p makes multiples of our current p value, up to the number the user entered. Then it checks to see if that number is in the list we have. If not, it moves to the next multiple, and if it is in the list, it removes the i * p number because it is not prime. Each time the for loop executes, p is incremented by 1. When p<=n, the while loop stops executing and we return the list of prime numbers."
   ]
  },
  {
   "cell_type": "code",
   "execution_count": 1,
   "metadata": {
    "collapsed": false
   },
   "outputs": [
   ],
   "source": [
    "def eratosthenes(n):\n",
    "    primes = []\n",
    "\n",
    "    if n<=0:\n",
    "        print(\"Please enter a positive number\")\n",
    "        return\n",
    "\n",
    "    count = 2\n",
    "    while count<=n-1:\n",
    "        primes.append(count)\n",
    "\n",
    "    p = 2\n",
    "\n",
    "    while p<=n:\n",
    "        for i in range(2, n+1):\n",
    "            if i*p <= n:\n",
    "                if i*p not in primes:\n",
    "                    continue\n",
    "                else:\n",
    "                    primes.remove(i*p)\n",
    "        p +=1\n",
    "\n",
    "    return primes\n",
    "\n",
    "if __name__ == \"__main__\":\n",
    "    import sys\n",
    "    if len(sys.argv) == 2:\n",
    "        print(eratosthenes(int(sys.argv[1])))\n",
    "    else:\n",
    "        print(\"Error, needs 1 command line argument\")\n",
    "        exit(1)"
   ]
  },
  {
   "cell_type": "markdown",
   "metadata": {
    "collapsed": false
   },
   "source": [
    "# Generating Prime Numbers"
   ]
  },
  {
   "cell_type": "markdown",
   "metadata": {
    "collapsed": false
   },
   "source": [
    "The function gen_eratosthenes() generates all prime numbers by...."
   ]
  },
  {
   "cell_type": "markdown",
   "metadata": {
    "collapsed": false
   },
   "source": [
    "# Benchmarking Implementations"
   ]
  },
  {
   "cell_type": "markdown",
   "metadata": {
    "collapsed": false
   },
   "source": [
    "Use %time and %timeit magic function to compare functions and explain which one is faster. By how much? Does it match your prediction about efficiency above? Speculate about what is being slow about the slower implementation."
   ]
  },
  {
   "cell_type": "code",
   "execution_count": 0,
   "metadata": {
    "collapsed": false
   },
   "outputs": [
   ],
   "source": [
   ]
  }
 ],
 "metadata": {
  "kernelspec": {
   "display_name": "Python 3 (Ubuntu Linux)",
   "language": "python",
   "name": "python3"
  },
  "language_info": {
   "codemirror_mode": {
    "name": "ipython",
    "version": 3
   },
   "file_extension": ".py",
   "mimetype": "text/x-python",
   "name": "python",
   "nbconvert_exporter": "python",
   "pygments_lexer": "ipython3",
   "version": "3.5.2"
  }
 },
 "nbformat": 4,
 "nbformat_minor": 0
}