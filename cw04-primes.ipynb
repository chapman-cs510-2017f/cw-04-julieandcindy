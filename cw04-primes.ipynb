{
 "cells": [
  {
   "cell_type": "code",
   "execution_count": 0,
   "metadata": {
    "collapsed": false
   },
   "outputs": [
   ],
   "source": [
    "import numpy as np    # Numeric python\n",
    "import sympy as sp    # Symbolic python\n",
    "import pandas as pd   # Data processing python\n",
    "import primes\n",
    "\n"
   ]
  },
  {
   "cell_type": "markdown",
   "metadata": {
    "collapsed": false
   },
   "source": [
    "# The Sieve of Eratosthenes"
   ]
  },
  {
   "cell_type": "markdown",
   "metadata": {
    "collapsed": false
   },
   "source": [
    "The goal of this algorithm is to find all prime numbers up to a number n. This algorithm works by starting at the number 2 and removing all multiple of 2. Then we remove all multiples of 3, and so on.  Once multiples of 3 are removed, we check for the next available number.  This ends up being 5 since 4 was removed during the multiples of 2 process.  This is how we are able to get the primes left behind.\n",
    "\n",
    "For this function we decided to go with a list because the removal process works well with generating a full list of integers up to n, then picking out all the composite numbers."
   ]
  },
  {
   "cell_type": "code",
   "execution_count": 0,
   "metadata": {
    "collapsed": false
   },
   "outputs": [
   ],
   "source": [
    "def eratosthenes(n):\n",
    "    primes = []\n",
    "    if n<=0:\n",
    "        print(\"Please enter a positive number\")\n",
    "        return\n",
    "    count = 2\n",
    "    while count<=n-1:\n",
    "        primes.append(count)\n",
    "        count +=1\n",
    "    p = 2\n",
    "    while p<=n:\n",
    "        for i in range(2, n+1):\n",
    "            if i*p <= n:\n",
    "                if i*p not in primes:\n",
    "                    continue\n",
    "                else:\n",
    "                    primes.remove(i*p)\n",
    "        p +=1\n",
    "    return primes"
   ]
  },
  {
   "cell_type": "markdown",
   "metadata": {
    "collapsed": false
   },
   "source": [
    "# Generating Prime Numbers"
   ]
  },
  {
   "cell_type": "markdown",
   "metadata": {
    "collapsed": false
   },
   "source": [
    "The function gen_eratosthenes() generates all prime numbers by running the eratosthenes function each implementation, upping the current variable until a new prime is added to the list.  Since this generator uses the original function, the implementation is very similar."
   ]
  },
  {
   "cell_type": "code",
   "execution_count": 0,
   "metadata": {
    "collapsed": false
   },
   "outputs": [
   ],
   "source": [
    "def gen_eratosthenes():\n",
    "    a = 2\n",
    "    gen_primes = []\n",
    "    while True:\n",
    "        if a is in eratosthenes(a+1):\n",
    "            gen_primes.append(a)\n",
    "            yield a\n",
    "            a += 1\n",
    "        else:\n",
    "            a += 1\n",
    "    return gen_primes"
   ]
  },
  {
   "cell_type": "markdown",
   "metadata": {
    "collapsed": false
   },
   "source": [
    "# Benchmarking Implementations"
   ]
  },
  {
   "cell_type": "markdown",
   "metadata": {
    "collapsed": false
   },
   "source": [
    "Use %time and %timeit magic function to compare functions and explain which one is faster. By how much? Does it match your prediction about efficiency above? Speculate about what is being slow about the slower implementation.\n",
    "Using the %timeit magic function, we can compare which function is faster."
   ]
  },
  {
   "cell_type": "code",
   "execution_count": 18,
   "metadata": {
    "collapsed": false
   },
   "outputs": [
    {
     "ename": "SyntaxError",
     "evalue": "invalid syntax (primes.py, line 83)",
     "output_type": "error",
     "traceback": [
      "Traceback \u001b[0;36m(most recent call last)\u001b[0m:\n",
      "  File \u001b[1;32m\"/usr/local/lib/python3.5/dist-packages/IPython/core/interactiveshell.py\"\u001b[0m, line \u001b[1;32m2862\u001b[0m, in \u001b[1;35mrun_code\u001b[0m\n    exec(code_obj, self.user_global_ns, self.user_ns)\n",
      "\u001b[0;36m  File \u001b[0;32m\"<ipython-input-18-37b592aa2974>\"\u001b[0;36m, line \u001b[0;32m1\u001b[0;36m, in \u001b[0;35m<module>\u001b[0;36m\u001b[0m\n\u001b[0;31m    import primes\u001b[0m\n",
      "\u001b[0;36m  File \u001b[0;32m\"/home/user/CS510/cw-04-julieandcindy/primes.py\"\u001b[0;36m, line \u001b[0;32m83\u001b[0m\n\u001b[0;31m    if a is in eratosthenes(a+1):\u001b[0m\n\u001b[0m             ^\u001b[0m\n\u001b[0;31mSyntaxError\u001b[0m\u001b[0;31m:\u001b[0m invalid syntax\n"
     ]
    }
   ],
   "source": [
    "import primes\n",
    "%timeit primes.eratosthenes(100)"
   ]
  },
  {
   "cell_type": "code",
   "execution_count": 11,
   "metadata": {
    "collapsed": false
   },
   "outputs": [
    {
     "ename": "SyntaxError",
     "evalue": "invalid syntax (primes.py, line 83)",
     "output_type": "error",
     "traceback": [
      "Traceback \u001b[0;36m(most recent call last)\u001b[0m:\n",
      "  File \u001b[1;32m\"/usr/local/lib/python3.5/dist-packages/IPython/core/interactiveshell.py\"\u001b[0m, line \u001b[1;32m2862\u001b[0m, in \u001b[1;35mrun_code\u001b[0m\n    exec(code_obj, self.user_global_ns, self.user_ns)\n",
      "\u001b[0;36m  File \u001b[0;32m\"<ipython-input-11-361deef25965>\"\u001b[0;36m, line \u001b[0;32m1\u001b[0;36m, in \u001b[0;35m<module>\u001b[0;36m\u001b[0m\n\u001b[0;31m    import primes\u001b[0m\n",
      "\u001b[0;36m  File \u001b[0;32m\"/home/user/CS510/cw-04-julieandcindy/primes.py\"\u001b[0;36m, line \u001b[0;32m83\u001b[0m\n\u001b[0;31m    if a is in eratosthenes(a+1):\u001b[0m\n\u001b[0m             ^\u001b[0m\n\u001b[0;31mSyntaxError\u001b[0m\u001b[0;31m:\u001b[0m invalid syntax\n"
     ]
    }
   ],
   "source": [
    "import primes\n",
    "%timeit primes.gen_eratosthenes(100)"
   ]
  },
  {
   "cell_type": "markdown",
   "metadata": {
    "collapsed": false
   },
   "source": [
    "This leads us to believe that the generator function works faster because it doesn't need a for loop, thus increasing the efficieny of the code."
   ]
  }
 ],
 "metadata": {
  "kernelspec": {
   "display_name": "Python 3 (Ubuntu Linux)",
   "language": "python",
   "name": "python3"
  },
  "language_info": {
   "codemirror_mode": {
    "name": "ipython",
    "version": 3
   },
   "file_extension": ".py",
   "mimetype": "text/x-python",
   "name": "python",
   "nbconvert_exporter": "python",
   "pygments_lexer": "ipython3",
   "version": "3.5.2"
  }
 },
 "nbformat": 4,
 "nbformat_minor": 0
}